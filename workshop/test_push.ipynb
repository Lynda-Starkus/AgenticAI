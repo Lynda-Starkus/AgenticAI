{
 "cells": [
  {
   "cell_type": "code",
   "execution_count": 1,
   "id": "c278913f",
   "metadata": {},
   "outputs": [
    {
     "name": "stdout",
     "output_type": "stream",
     "text": [
      "b'{\"status\":1,\"request\":\"8e54fa9a-c47c-4013-8b2c-d469a77710b0\"}'\n"
     ]
    }
   ],
   "source": [
    "import http.client, urllib\n",
    "\n",
    "PUSHOVER_USER='uf1zq9jv4o73nrk9m4ccbrb56h3q5i'\n",
    "PUSHOVER_TOKEN='a28oao5kfvsatehcpi1jbgoqiskt56'\n",
    "\n",
    "def test_push():\n",
    "    conn = http.client.HTTPSConnection(\"api.pushover.net:443\")\n",
    "    conn.request(\"POST\", \"/1/messages.json\",\n",
    "        urllib.parse.urlencode({\n",
    "            \"token\": PUSHOVER_TOKEN,\n",
    "            \"user\": PUSHOVER_USER,\n",
    "            \"message\": \"🚀 This is a test notification from Python!\",\n",
    "            \"sound\": \"cashregister\"\n",
    "        }), { \"Content-type\": \"application/x-www-form-urlencoded\" })\n",
    "    print(conn.getresponse().read())\n",
    "\n",
    "test_push()\n"
   ]
  },
  {
   "cell_type": "code",
   "execution_count": 3,
   "id": "491f2984",
   "metadata": {},
   "outputs": [
    {
     "name": "stdout",
     "output_type": "stream",
     "text": [
      "Status Code: 200\n",
      "\n",
      "--- NDJSON CHUNKS ---\n",
      "b'{\"model\":\"llama3.2\",\"created_at\":\"2025-07-27T16:54:05.9282356Z\",\"message\":{\"role\":\"assistant\",\"content\":\"pong\"},\"done\":false}'\n",
      "b'{\"model\":\"llama3.2\",\"created_at\":\"2025-07-27T16:54:05.9481977Z\",\"message\":{\"role\":\"assistant\",\"content\":\"\"},\"done_reason\":\"stop\",\"done\":true,\"total_duration\":342759300,\"load_duration\":122444000,\"prompt_eval_count\":31,\"prompt_eval_duration\":30257000,\"eval_count\":2,\"eval_duration\":184769400}'\n",
      "\n",
      "--- ASSEMBLED CONTENT ---\n",
      "pong\n"
     ]
    }
   ],
   "source": [
    "# Cell: Test Ollama and assemble NDJSON chunks into one message\n",
    "import requests\n",
    "import json\n",
    "\n",
    "ollama_url   = \"http://127.0.0.1:11436/api/chat\"\n",
    "ollama_model = \"llama3.2\"\n",
    "payload = {\n",
    "    \"model\": ollama_model,\n",
    "    \"messages\": [\n",
    "        {\"role\": \"system\",  \"content\": \"You are a test.\"},\n",
    "        {\"role\": \"user\",    \"content\": \"Ping\"}\n",
    "    ]\n",
    "}\n",
    "\n",
    "try:\n",
    "    # Use stream=True to iterate line by line\n",
    "    resp = requests.post(ollama_url, json=payload, stream=True, timeout=5)\n",
    "    print(\"Status Code:\", resp.status_code)\n",
    "    \n",
    "    assembled = \"\"\n",
    "    print(\"\\n--- NDJSON CHUNKS ---\")\n",
    "    for line in resp.iter_lines(decode_unicode=True):\n",
    "        if not line:\n",
    "            continue\n",
    "        print(line)  # show each raw JSON line\n",
    "        try:\n",
    "            msg = json.loads(line)\n",
    "            # accumulate the assistant's 'content' field\n",
    "            assembled += msg.get(\"message\", {}).get(\"content\", \"\")\n",
    "        except json.JSONDecodeError as je:\n",
    "            print(\"  ⚠️ JSON decode error:\", je)\n",
    "    \n",
    "    print(\"\\n--- ASSEMBLED CONTENT ---\")\n",
    "    print(assembled)\n",
    "    \n",
    "except Exception as e:\n",
    "    print(\"Request failed:\", e)\n"
   ]
  }
 ],
 "metadata": {
  "kernelspec": {
   "display_name": "pstb_agentic",
   "language": "python",
   "name": "python3"
  },
  "language_info": {
   "codemirror_mode": {
    "name": "ipython",
    "version": 3
   },
   "file_extension": ".py",
   "mimetype": "text/x-python",
   "name": "python",
   "nbconvert_exporter": "python",
   "pygments_lexer": "ipython3",
   "version": "3.11.13"
  }
 },
 "nbformat": 4,
 "nbformat_minor": 5
}
